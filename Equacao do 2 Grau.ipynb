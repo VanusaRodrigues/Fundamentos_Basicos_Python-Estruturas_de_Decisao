{
 "cells": [
  {
   "cell_type": "markdown",
   "id": "3d0bfdde",
   "metadata": {},
   "source": [
    "Faça um programa que calcule as raízes de uma equação do segundo grau, na forma ax2 + bx + c. O programa deverá pedir os valores de a, b e c e fazer as consistências, informando ao usuário nas seguintes situações: <br>\n",
    "a. Se o usuário informar o valor de A igual a zero, a equação não é do segundo grau e o programa não deve fazer pedir os demais valores, sendo encerrado; <br>\n",
    "b. Se o delta calculado for negativo, a equação não possui raizes reais. Informe ao usuário e encerre o programa; <br>\n",
    "c. Se o delta calculado for igual a zero a equação possui apenas uma raiz real; informe-a ao usuário; <br>\n",
    "d. Se o delta for positivo, a equação possui duas raiz reais; informe-as ao usuário."
   ]
  },
  {
   "cell_type": "code",
   "execution_count": 6,
   "id": "043e28de",
   "metadata": {},
   "outputs": [
    {
     "name": "stdout",
     "output_type": "stream",
     "text": [
      "Informe o valor de \"a\": 4\n",
      "Informe o valor de \"b\": 7\n",
      "Informe o valor de \"c\": 2\n",
      "Delta positivo: a equação possui duas raízez reais: -6.484611796797792 e -7.515388203202208.\n"
     ]
    }
   ],
   "source": [
    "a = float(input('Informe o valor de \"a\": '))\n",
    "b = 0\n",
    "c = 0\n",
    "delta = 0\n",
    "raiz1 = 0 \n",
    "raiz2 = 0 \n",
    "\n",
    "# a = 0: não é equação do 2º grau\n",
    "if a == 0:\n",
    "    print('a = 0 não pode formar uma equação do segundo grau.')\n",
    "else:\n",
    "    b = float(input('Informe o valor de \"b\": '))\n",
    "    c = float(input('Informe o valor de \"c\": '))\n",
    "    \n",
    "    delta = (b ** 2) - (4 * a * c)\n",
    "\n",
    "# delta < 0: equação não possui raízes reais\n",
    "    if  delta < 0:\n",
    "        print('Delta negativo: a equação não possui raízes reais.')\n",
    "# delta = 0: equação possui uma raiz real\n",
    "    elif delta == 0:\n",
    "        raiz1 = -b / (2 * a)\n",
    "        print(f'Delta = 0: a equação possui apenas uma raiz real: {raiz1}.')\n",
    "# delta > 0: equação possui duas raízes reais\n",
    "    else:\n",
    "        raiz1 = -b + (delta ** (1/2)) / (2 * a)\n",
    "        raiz2 = -b - (delta ** (1/2)) / (2 * a)\n",
    "        print(f'Delta positivo: a equação possui duas raízez reais: {raiz1} e {raiz2}.')\n",
    "        \n"
   ]
  }
 ],
 "metadata": {
  "kernelspec": {
   "display_name": "Python 3 (ipykernel)",
   "language": "python",
   "name": "python3"
  },
  "language_info": {
   "codemirror_mode": {
    "name": "ipython",
    "version": 3
   },
   "file_extension": ".py",
   "mimetype": "text/x-python",
   "name": "python",
   "nbconvert_exporter": "python",
   "pygments_lexer": "ipython3",
   "version": "3.9.7"
  }
 },
 "nbformat": 4,
 "nbformat_minor": 5
}
