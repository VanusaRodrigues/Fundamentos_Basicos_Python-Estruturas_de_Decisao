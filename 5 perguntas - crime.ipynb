{
 "cells": [
  {
   "cell_type": "markdown",
   "id": "5d34bcfd",
   "metadata": {},
   "source": [
    "Faça um programa que faça 5 perguntas para uma pessoa sobre um crime. As perguntas são: <br>\n",
    "a. \"Telefonou para a vítima?\" <br>\n",
    "b. \"Esteve no local do crime?\" <br>\n",
    "c. \"Mora perto da vítima?\" <br>\n",
    "d. \"Devia para a vítima?\" <br>\n",
    "e. \"Já trabalhou com a vítima?\" <br>\n",
    "O programa deve no final emitir uma classificação sobre a participação da pessoa no crime. <br>\n",
    "Se a pessoa responder positivamente a 2 questões ela deve ser classificada como \"Suspeita\", entre 3 e 4 como \"Cúmplice\" e 5 como \"Assassino\". Caso contrário, ele será classificado como \"Inocente\".  <br>"
   ]
  },
  {
   "cell_type": "code",
   "execution_count": 1,
   "id": "9a1d35a4",
   "metadata": {},
   "outputs": [
    {
     "name": "stdout",
     "output_type": "stream",
     "text": [
      "Para as questões abaixo responda: 1 para sim / 0 para não\n",
      "Telefonou para a vítima? 1\n",
      "Esteve no local do crime? 0\n",
      "Mora perto da vítima? 1\n",
      "Devia para a vítima? 0\n",
      "Já trabalhou com a vítima? 1\n",
      "Cúmplice\n"
     ]
    }
   ],
   "source": [
    "print('Para as questões abaixo responda: 1 para sim / 0 para não')\n",
    "p1 = input('Telefonou para a vítima? ')\n",
    "p2 = input('Esteve no local do crime? ')\n",
    "p3 = input('Mora perto da vítima? ')\n",
    "p4 = input('Devia para a vítima? ')\n",
    "p5 = input('Já trabalhou com a vítima? ')\n",
    "\n",
    "# Transformando 0 e 1 das respostas em int\n",
    "p1 = int(p1)\n",
    "p2 = int(p2)\n",
    "p3 = int(p3)\n",
    "p4 = int(p4)\n",
    "p5 = int(p5)\n",
    "\n",
    "# Testando validade das entradas:\n",
    "if (p1 != 0 and p1 != 1) or (p2 != 0 and p2 != 1) or (p3 != 0 and p3 != 1) or (p4 != 0 and p4 != 1) or (p5 != 0 and p5 != 1):\n",
    "    print('Uma ou mais questões foram respondidas erradas. Volte e responda-as novamente, escolhendo 1 para sim e 0 para não.')\n",
    "# Se soma das respostas = 2    \n",
    "elif (p1 + p2 + p3 + p4 + p5 == 2):\n",
    "    print('Suspeito')\n",
    "# Se soma das respostas = 3 ou 4  \n",
    "elif (p1 + p2 + p3 + p4 + p5 == 3) or (p1 + p2 + p3 + p4 + p5 == 4):\n",
    "    print('Cúmplice')\n",
    "# Se soma das respostas = 5      \n",
    "elif (p1 + p2 + p3 + p4 + p5 == 5):\n",
    "    print('Assassino')\n",
    "# Se soma das respostas = 0 ou 1     \n",
    "else:\n",
    "    print('Inocente')"
   ]
  }
 ],
 "metadata": {
  "kernelspec": {
   "display_name": "Python 3 (ipykernel)",
   "language": "python",
   "name": "python3"
  },
  "language_info": {
   "codemirror_mode": {
    "name": "ipython",
    "version": 3
   },
   "file_extension": ".py",
   "mimetype": "text/x-python",
   "name": "python",
   "nbconvert_exporter": "python",
   "pygments_lexer": "ipython3",
   "version": "3.9.7"
  }
 },
 "nbformat": 4,
 "nbformat_minor": 5
}
