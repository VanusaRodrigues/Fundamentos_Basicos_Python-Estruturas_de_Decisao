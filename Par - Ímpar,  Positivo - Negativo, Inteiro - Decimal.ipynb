{
 "cells": [
  {
   "cell_type": "markdown",
   "id": "8cd5850e",
   "metadata": {},
   "source": [
    "Faça um Programa que leia 2 números e em seguida pergunte ao usuário qual operação ele deseja realizar. <br>\n",
    "O resultado da operação deve ser acompanhado de uma frase que diga se o número é: <br>\n",
    "a. par ou ímpar; <br>\n",
    "b. positivo ou negativo; <br>\n",
    "c. inteiro ou decimal."
   ]
  },
  {
   "cell_type": "code",
   "execution_count": 2,
   "id": "68016338",
   "metadata": {},
   "outputs": [
    {
     "name": "stdout",
     "output_type": "stream",
     "text": [
      "Informe o primeiro número: 40\n",
      "Informe o segundo número: 5\n",
      "Escolha uma das operações: adição, subtração, multiplicação, divisão, divisão por inteiro, module, potenciação, radiciação: divisão\n",
      "Resultado: 8.0\n",
      "O resultado é um número 8.0 é par.\n",
      "O resultado 8.0 é um número positivo.\n",
      "O resultado 8.0 é um número inteiro.\n"
     ]
    }
   ],
   "source": [
    "num1 = float(input('Informe o primeiro número: '))\n",
    "num2 = float(input('Informe o segundo número: '))\n",
    "operacao = input('Escolha uma das operações: adição, subtração, multiplicação, divisão, divisão por inteiro, module, potenciação, radiciação: ').lower()\n",
    "\n",
    "resultado = 0 \n",
    "\n",
    "# Chegando ao resultado:\n",
    "if 'adição' in operacao: \n",
    "    resultado = num1 + num2\n",
    "elif 'subtração' in operacao:\n",
    "    resultado = num1 - num2\n",
    "elif 'multiplicação' in operacao:\n",
    "    resultado = num1 * num2\n",
    "elif 'divisão por inteiro' in operacao:\n",
    "    if num2 != 0:\n",
    "        resultado = num1 // num2\n",
    "    else:\n",
    "        print('Não é possível efetuar divisão por zero.')\n",
    "        resultado = ''\n",
    "elif 'divisão' in operacao:\n",
    "    if num2 != 0:\n",
    "        resultado = num1 / num2\n",
    "    else:\n",
    "        print('Não é possível efetuar divisão por zero.')\n",
    "        resultado = ''\n",
    "elif 'mod' in operacao:\n",
    "    if num2 != 0:\n",
    "        resultado = num1 % num2\n",
    "    else:\n",
    "        print('Não é possível efetuar divisão por zero.')\n",
    "        resultado = ''\n",
    "elif 'potenciação' in operacao:\n",
    "    resultado = num1 ** num2\n",
    "elif 'radiciação' in operacao:\n",
    "    if num1 >= 0 and num2 != 0:\n",
    "        resultado = num1 ** (1/num2)\n",
    "    elif num1 < 0:\n",
    "        print('Não é possível efetuar radiciação com números complexos.')\n",
    "        resultado = ''\n",
    "    elif num2 == 0:\n",
    "        print('Não é possível efetuar radiciação com índice zero.')\n",
    "        resultado = ''\n",
    "else:\n",
    "    resultado = ''\n",
    "    print('Operação não reconhecida.')\n",
    "\n",
    "\n",
    "# Mostrando resultado da operação:\n",
    "if resultado != '':\n",
    "    print(f'Resultado: {resultado}')\n",
    "\n",
    "\n",
    "# Se resultado é par/ímpar:    \n",
    "if resultado == '':\n",
    "    pass\n",
    "elif resultado % 2 == 0:\n",
    "    print(f'O resultado é um número {resultado} é par.')\n",
    "else:\n",
    "    print(f'O resultado é um número {resultado} é ímpar.')\n",
    "    \n",
    "    \n",
    "# Se resultado é neutro/positivo/negativo: \n",
    "if resultado == '':\n",
    "    pass\n",
    "elif resultado == 0:\n",
    "    print(f'O resultado {resultado} é um número neutro.')\n",
    "elif resultado < 0:\n",
    "    print(f'O resultado {resultado} é um número negativo.')\n",
    "else:\n",
    "    print(f'O resultado {resultado} é um número positivo.')\n",
    "        \n",
    "\n",
    "# Se resultado é inteiro/decimal: \n",
    "if resultado == '':\n",
    "    pass\n",
    "elif resultado == round(resultado):\n",
    "    print(f'O resultado {resultado} é um número inteiro.')\n",
    "else:\n",
    "    print(f'O resultado {resultado} é um número decimal.')\n"
   ]
  }
 ],
 "metadata": {
  "kernelspec": {
   "display_name": "Python 3 (ipykernel)",
   "language": "python",
   "name": "python3"
  },
  "language_info": {
   "codemirror_mode": {
    "name": "ipython",
    "version": 3
   },
   "file_extension": ".py",
   "mimetype": "text/x-python",
   "name": "python",
   "nbconvert_exporter": "python",
   "pygments_lexer": "ipython3",
   "version": "3.9.7"
  }
 },
 "nbformat": 4,
 "nbformat_minor": 5
}
