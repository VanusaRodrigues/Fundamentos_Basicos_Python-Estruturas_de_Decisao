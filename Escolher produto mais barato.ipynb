{
 "cells": [
  {
   "cell_type": "markdown",
   "id": "a7fad48d",
   "metadata": {},
   "source": [
    "Faça um programa que pergunte o preço de três produtos e informe qual produto você deve comprar, sabendo que a decisão é sempre pelo mais barato."
   ]
  },
  {
   "cell_type": "code",
   "execution_count": 1,
   "id": "49eff6f8",
   "metadata": {},
   "outputs": [
    {
     "name": "stdout",
     "output_type": "stream",
     "text": [
      "Informe o preço do primeiro produto: 45\n",
      "Informe o preço do segundo produto: 78\n",
      "Informe o preço do terceiro produto: 62\n",
      "Você deve comprar o primeiro produto que custa R$ 45.00.\n"
     ]
    }
   ],
   "source": [
    "preco1 = float(input('Informe o preço do primeiro produto: '))\n",
    "preco2 = float(input('Informe o preço do segundo produto: '))\n",
    "preco3 = float(input('Informe o preço do terceiro produto: '))\n",
    "\n",
    "# Definindo o produto mais barato:\n",
    "# 1º produto:\n",
    "if preco1 < preco2 and preco1 < preco3: \n",
    "    print(f'Você deve comprar o primeiro produto que custa R$ {preco1:.2f}.')\n",
    "# 2º produto:\n",
    "elif preco2 < preco1 and preco2 < preco3: \n",
    "    print(f'Você deve comprar o segundo produto que custa R$ {preco2:.2f}.')\n",
    "# 3º produto:\n",
    "elif preco3 < preco1 and preco3 < preco2: \n",
    "    print(f'Você deve comprar o terceiro produto que custa R$ {preco3:.2f}.')\n",
    "# 1º e 2º produtos:\n",
    "elif preco1 == preco2 and preco1 < preco3: \n",
    "    print(f'Você deve comprar o primeiro e/ou o segundo produto, pois ambos custam R$ {preco1:.2f}.')\n",
    "# 1º e 3º produtos:\n",
    "elif preco1 == preco3 and preco1 < preco2:\n",
    "    print(f'Você deve comprar o primeiro e/ou o terceiro produto, pois ambos custam R$ {preco1:.2f}.')\n",
    "# 2º e 3º produtos:\n",
    "elif preco2 == preco3 and preco2 < preco1:\n",
    "    print(f'Você deve comprar o segundo e/ou o terceiro produto, pois ambos custam R$ {preco2:.2f}.')\n",
    "# Todos os produtos têm o mesmo preço:\n",
    "elif preco1 == preco2 and preco1 == preco3 and preco2 == preco3:\n",
    "    print(f'Todos os produtos custam R$ {preco1:.2f}. Você pode/deve escolher qualquer um dos produtos.')\n"
   ]
  }
 ],
 "metadata": {
  "kernelspec": {
   "display_name": "Python 3 (ipykernel)",
   "language": "python",
   "name": "python3"
  },
  "language_info": {
   "codemirror_mode": {
    "name": "ipython",
    "version": 3
   },
   "file_extension": ".py",
   "mimetype": "text/x-python",
   "name": "python",
   "nbconvert_exporter": "python",
   "pygments_lexer": "ipython3",
   "version": "3.9.7"
  }
 },
 "nbformat": 4,
 "nbformat_minor": 5
}
