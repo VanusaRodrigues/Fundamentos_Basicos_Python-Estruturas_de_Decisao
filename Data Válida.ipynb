{
 "cells": [
  {
   "cell_type": "markdown",
   "id": "8b2a4980",
   "metadata": {},
   "source": [
    "Faça um Programa que peça uma data no formato dd/mm/aaaa e determine se a mesma é uma data válida."
   ]
  },
  {
   "cell_type": "code",
   "execution_count": 1,
   "id": "4372021c",
   "metadata": {},
   "outputs": [
    {
     "name": "stdout",
     "output_type": "stream",
     "text": [
      "Digite um data (dd/mm/yyyy): 03/06/1974\n",
      "Data válida\n"
     ]
    }
   ],
   "source": [
    "data = input('Digite um data (dd/mm/yyyy): ')\n",
    "\n",
    "# separando a data em variáveis dia, mes, ano pela barra /\n",
    "dia, mes, ano = map(int, data.split('/')) \n",
    "\n",
    "# variável para informar se a data é válida ou inválida. Iniciar como falsa, pois...\n",
    "# ... caso seja informado algum mês fora do intervalo entre 01 e 12, ela continua falsa.\n",
    "# só irá alterar para verdadeira se preencher uma das condições abaixo:\n",
    "valida = False \n",
    "\n",
    "# validando dias nos meses com 31 dias:\n",
    "if (mes == 1 or mes==3 or mes==5 or mes==7 or mes==8 or mes==10 or mes==12): \n",
    "    if dia <= 31:\n",
    "        valida = True\n",
    "# validando dias nos meses com 30 dias:\n",
    "elif (mes == 4 or mes == 6 or mes == 9 or mes == 11):\n",
    "    if dia <= 30:\n",
    "        valida = True\n",
    "# validando fevereiro (verificando se é bissexto):\n",
    "elif mes == 2:\n",
    "    if (ano % 4 == 0 and ano % 100 != 0) or (ano % 400 == 0): \n",
    "        if dia <= 29:\n",
    "            valida = True\n",
    "    else:\n",
    "        if dia <= 28:\n",
    "            valida = True\n",
    "\n",
    "# se valida = True\n",
    "if(valida): \n",
    "    print('Data válida')\n",
    "# se valida = False\n",
    "else: \n",
    "    print('Data inválida')\n"
   ]
  }
 ],
 "metadata": {
  "kernelspec": {
   "display_name": "Python 3 (ipykernel)",
   "language": "python",
   "name": "python3"
  },
  "language_info": {
   "codemirror_mode": {
    "name": "ipython",
    "version": 3
   },
   "file_extension": ".py",
   "mimetype": "text/x-python",
   "name": "python",
   "nbconvert_exporter": "python",
   "pygments_lexer": "ipython3",
   "version": "3.9.7"
  }
 },
 "nbformat": 4,
 "nbformat_minor": 5
}
