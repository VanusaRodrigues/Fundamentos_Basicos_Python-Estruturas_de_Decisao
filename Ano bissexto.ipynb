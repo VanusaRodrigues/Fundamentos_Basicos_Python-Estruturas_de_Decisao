{
 "cells": [
  {
   "cell_type": "markdown",
   "id": "9cd11ec8",
   "metadata": {},
   "source": [
    "Faça um Programa que peça um número correspondente a um determinado ano e em seguida informe se este ano é ou não bissexto.\n"
   ]
  },
  {
   "cell_type": "code",
   "execution_count": 1,
   "id": "691b296d",
   "metadata": {},
   "outputs": [
    {
     "name": "stdout",
     "output_type": "stream",
     "text": [
      "Informe o ano: 2020\n",
      "2020 é ano bissexto.\n"
     ]
    }
   ],
   "source": [
    "# Para ser bissexto, uma das duas condições abaixo deve ser verdadeira:\n",
    "# 1ª: ser múltiplo de 4, mas não de 100\n",
    "# OU\n",
    "# 2ª: ser múltiplo de 400\n",
    "\n",
    "ano = int(input('Informe o ano: '))\n",
    "\n",
    "if (ano % 4 == 0 and ano % 100 != 0) or (ano % 400 == 0): \n",
    "    print(f'{ano} é ano bissexto.')\n",
    "else:\n",
    "    print(f'{ano} não é ano bissexto.')\n"
   ]
  }
 ],
 "metadata": {
  "kernelspec": {
   "display_name": "Python 3 (ipykernel)",
   "language": "python",
   "name": "python3"
  },
  "language_info": {
   "codemirror_mode": {
    "name": "ipython",
    "version": 3
   },
   "file_extension": ".py",
   "mimetype": "text/x-python",
   "name": "python",
   "nbconvert_exporter": "python",
   "pygments_lexer": "ipython3",
   "version": "3.9.7"
  }
 },
 "nbformat": 4,
 "nbformat_minor": 5
}
