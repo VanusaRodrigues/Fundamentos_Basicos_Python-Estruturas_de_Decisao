{
 "cells": [
  {
   "cell_type": "markdown",
   "id": "50831612",
   "metadata": {},
   "source": [
    "Faça um Programa para um caixa eletrônico. <br>\n",
    "O programa deverá perguntar ao usuário o valor do saque e depois informar quantas notas de cada valor serão fornecidas. <br>\n",
    "As notas disponíveis serão as de 1, 5, 10, 50 e 100 reais. <br>\n",
    "O valor mínimo é de 10 reais e o máximo de 600 reais. <br>\n",
    "O programa não deve se preocupar com a quantidade de notas existentes na máquina. <br>\n",
    "a. Exemplo 1: Para sacar a quantia de 256 reais, o programa fornece duas notas de 100, uma nota de 50, uma nota de 5 e uma nota de 1; <br>\n",
    "b. Exemplo 2: Para sacar a quantia de 399 reais, o programa fornece três notas de 100, uma nota de 50, quatro notas de 10, uma nota de 5 e quatro notas de 1.\n"
   ]
  },
  {
   "cell_type": "code",
   "execution_count": 1,
   "id": "5f45d8b7",
   "metadata": {},
   "outputs": [
    {
     "name": "stdout",
     "output_type": "stream",
     "text": [
      "Informe o valor do saque (de R$10,00 a R$600,00): 276\n",
      "Saque: R$ 276.00 \n",
      "Você receberá: \n",
      "2 nota(s) de 100; \n",
      "1 nota(s) de 50; \n",
      "2 nota(s) de 10; \n",
      "1 nota(s) de 5; \n",
      "1 nota(s) de 1.\n"
     ]
    }
   ],
   "source": [
    "saque = int(input('Informe o valor do saque (de R$10,00 a R$600,00): '))\n",
    "\n",
    "nota100 = 0\n",
    "nota50 = 0 \n",
    "nota10 = 0 \n",
    "nota5 = 0 \n",
    "nota1 = 0\n",
    "resto = 0 \n",
    "\n",
    "# Se saque abaixo de 10 e acima de 600:\n",
    "if saque < 10 or saque > 600: \n",
    "    print('Valor não permitido para saque.')\n",
    "# Se entre 10 e 600\n",
    "else: \n",
    "    nota100 = saque // 100 # calcula quantas notas de 100 (as // retornar apenas a parte inteira da divisão)\n",
    "    resto = saque % 100 # calcula o que sobra\n",
    "    nota50 = resto // 50 # calcula quantas notas de 50\n",
    "    resto = resto % 50 # calcula o que sobra\n",
    "    nota10 = resto // 10 # calcula quantas notas de 10\n",
    "    resto = resto % 10 # calcula o que sobra\n",
    "    nota5 = resto // 5 # calcula quantas notas de 5\n",
    "    nota1 = resto % 5 # calcula quantas notas de 1\n",
    "\n",
    "    print(f'Saque: R$ {saque:.2f} \\nVocê receberá: \\n{nota100} nota(s) de 100; \\n{nota50} nota(s) de 50; \\n{nota10} nota(s) de 10; \\n{nota5} nota(s) de 5; \\n{nota1} nota(s) de 1.')\n",
    "  \n"
   ]
  }
 ],
 "metadata": {
  "kernelspec": {
   "display_name": "Python 3 (ipykernel)",
   "language": "python",
   "name": "python3"
  },
  "language_info": {
   "codemirror_mode": {
    "name": "ipython",
    "version": 3
   },
   "file_extension": ".py",
   "mimetype": "text/x-python",
   "name": "python",
   "nbconvert_exporter": "python",
   "pygments_lexer": "ipython3",
   "version": "3.9.7"
  }
 },
 "nbformat": 4,
 "nbformat_minor": 5
}
