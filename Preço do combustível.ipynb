{
 "cells": [
  {
   "cell_type": "markdown",
   "id": "a2627e48",
   "metadata": {},
   "source": [
    "Um posto está vendendo combustíveis com a seguinte tabela de descontos: <br>\n",
    "\n",
    "Álcool: <br>\n",
    "a. até 20 litros, desconto de 3% por litro <br>\n",
    "b. acima de 20 litros, desconto de 5% por litro <br>\n",
    "\n",
    "Gasolina: <br>\n",
    "a. até 20 litros, desconto de 4% por litro <br>\n",
    "b. acima de 20 litros, desconto de 6% por litro <br>\n",
    "\n",
    "Escreva um algoritmo que leia o número de litros vendidos, o tipo de combustível (codificado da seguinte forma: A-álcool, G-gasolina), calcule e imprima o valor a ser pago pelo cliente sabendo-se que o preço do litro da gasolina é RS 2,50 o preço do litro do álcool é RS 1,90.\n"
   ]
  },
  {
   "cell_type": "code",
   "execution_count": 1,
   "id": "723b44c5",
   "metadata": {},
   "outputs": [
    {
     "name": "stdout",
     "output_type": "stream",
     "text": [
      "Álcool ou gasolina? Responda A ou G: a\n",
      "Quantos litros? 50\n",
      "\n",
      "Combustível: Álcool \n",
      "Quantidade de litros: 50 \n",
      "Valor R$: 90.25\n"
     ]
    }
   ],
   "source": [
    "combustivel = input('Álcool ou gasolina? Responda A ou G: ').upper()\n",
    "litros = int(input('Quantos litros? '))\n",
    "\n",
    "preco = 0 \n",
    "desconto = 0 \n",
    "\n",
    "# Testando validade das entradas:\n",
    "if combustivel != 'A' and combustivel != 'G':\n",
    "    print('Opção inválida! Tente novamente.')\n",
    "# Álcool\n",
    "elif combustivel == 'A':\n",
    "    preco = 1.9\n",
    "    if litros <= 20:\n",
    "        desconto = preco * 0.03\n",
    "    else: \n",
    "        desconto = preco * 0.05\n",
    "    preco = (preco - desconto) * litros\n",
    "    print(f'\\nCombustível: Álcool \\nQuantidade de litros: {litros} \\nValor R$: {preco:.2f}')\n",
    "# Gasolina:\n",
    "else:\n",
    "    preco = 2.5\n",
    "    if litros <= 20:\n",
    "        desconto = preco * 0.04\n",
    "    else: \n",
    "        desconto = preco * 0.06\n",
    "    preco = (preco - desconto) * litros\n",
    "    print(f'\\nCombustível: Gasolina \\nQuantidade de litros: {litros} \\nValor R$: {preco:.2f}')\n"
   ]
  }
 ],
 "metadata": {
  "kernelspec": {
   "display_name": "Python 3 (ipykernel)",
   "language": "python",
   "name": "python3"
  },
  "language_info": {
   "codemirror_mode": {
    "name": "ipython",
    "version": 3
   },
   "file_extension": ".py",
   "mimetype": "text/x-python",
   "name": "python",
   "nbconvert_exporter": "python",
   "pygments_lexer": "ipython3",
   "version": "3.9.7"
  }
 },
 "nbformat": 4,
 "nbformat_minor": 5
}
