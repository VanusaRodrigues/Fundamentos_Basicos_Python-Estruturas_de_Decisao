{
 "cells": [
  {
   "cell_type": "markdown",
   "id": "008c0177",
   "metadata": {},
   "source": [
    "Faça um Programa que peça os 3 lados de um triângulo. O programa deverá informar se os valores podem ser um triângulo. Indique, caso os lados formem um triângulo, se o mesmo é: equilátero, isósceles ou escaleno. <br>\n",
    "Dicas: <br>\n",
    "Três lados formam um triângulo quando a soma de quaisquer dois lados for maior que o terceiro; <br>\n",
    "Triângulo Equilátero: três lados iguais; <br>\n",
    "Triângulo Isósceles: quaisquer dois lados iguais; <br>\n",
    "Triângulo Escaleno: três lados diferentes."
   ]
  },
  {
   "cell_type": "code",
   "execution_count": 1,
   "id": "cd09623e",
   "metadata": {},
   "outputs": [
    {
     "name": "stdout",
     "output_type": "stream",
     "text": [
      "Informe o tamanho do primeiro lado: 2\n",
      "Informe o tamanho do segundo lado: 4\n",
      "Informe o tamanho do terceiro lado: 3\n",
      "Os tamanhos informados formam um triângulo escaleno.\n"
     ]
    }
   ],
   "source": [
    "lado1 = float(input('Informe o tamanho do primeiro lado: '))\n",
    "lado2 = float(input('Informe o tamanho do segundo lado: '))\n",
    "lado3 = float(input('Informe o tamanho do terceiro lado: '))\n",
    "\n",
    "# Verificando se a soma de quaisquer dois lados é maior que o terceiro:\n",
    "if ((lado1 + lado2) < lado3) or ((lado1 + lado3) < lado2) or ((lado2 + lado3) < lado1):\n",
    "    print('Os tamanhos informados não podem formar um triângulo.')\n",
    "else:\n",
    "    # Triângulo Equilátero:\n",
    "    if lado1 == lado2 == lado3:\n",
    "        print('Os tamanhos informados formam um triângulo equilátero.')\n",
    "    # Triângulo Isósceles:\n",
    "    elif (lado1 == lado2) or (lado1 == lado3) or (lado2 == lado3):\n",
    "        print('Os tamanhos informados formam um triângulo isósceles.')\n",
    "    # Triângulo Escaleno:\n",
    "    else:\n",
    "        print('Os tamanhos informados formam um triângulo escaleno.')\n"
   ]
  }
 ],
 "metadata": {
  "kernelspec": {
   "display_name": "Python 3 (ipykernel)",
   "language": "python",
   "name": "python3"
  },
  "language_info": {
   "codemirror_mode": {
    "name": "ipython",
    "version": 3
   },
   "file_extension": ".py",
   "mimetype": "text/x-python",
   "name": "python",
   "nbconvert_exporter": "python",
   "pygments_lexer": "ipython3",
   "version": "3.9.7"
  }
 },
 "nbformat": 4,
 "nbformat_minor": 5
}
