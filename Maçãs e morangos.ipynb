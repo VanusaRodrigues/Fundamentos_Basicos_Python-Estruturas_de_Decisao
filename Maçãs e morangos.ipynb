{
 "cells": [
  {
   "cell_type": "markdown",
   "id": "e58604f4",
   "metadata": {},
   "source": [
    "Uma fruteira está vendendo frutas com a seguinte tabela de preços: <br>\n",
    "\n",
    "----------------------   Até 5 Kg ------------- Acima de 5 Kg <br>\n",
    "Morango --- RS 2,50 por Kg ---------- RS 2,20 por Kg <br>\n",
    "Maçã ------- RS 1,80 por Kg ---------- RS 1,50 por Kg <br>\n",
    "\n",
    "\n",
    "Se o cliente comprar mais de 8 Kg em frutas ou o valor total da compra ultrapassar RS 25,00, receberá ainda um desconto de 10% sobre este total. <br>\n",
    "Escreva um algoritmo para ler a quantidade (em Kg) de morangos e a quantidade (em Kg) de maças adquiridas e escreva o valor a ser pago pelo cliente. <br>"
   ]
  },
  {
   "cell_type": "code",
   "execution_count": 1,
   "id": "6071230f",
   "metadata": {},
   "outputs": [
    {
     "name": "stdout",
     "output_type": "stream",
     "text": [
      "Quantos kilos de morango? 4\n",
      "Quantos kilos de maçã? 5\n",
      "\n",
      "Quantidade de morangos: 4Kg \n",
      "Quantidade de maçãs: 5Kg \n",
      "Valor: R$ 17.10\n"
     ]
    }
   ],
   "source": [
    "kg_morango = int(input('Quantos kilos de morango? '))\n",
    "kg_maca = int(input('Quantos kilos de maçã? '))\n",
    "\n",
    "preco_morango = 0\n",
    "preco_maca = 0\n",
    "total_morango = 0 \n",
    "total_maca = 0 \n",
    "total = 0 \n",
    "kg_soma = 0 \n",
    "desconto = 0 \n",
    "\n",
    "# Definindo preço do morango:\n",
    "# Se <= 5kg:\n",
    "if kg_morango <= 5:\n",
    "    preco_morango = 2.5\n",
    "# Se > 5kg:\n",
    "else:\n",
    "    preco_morango = 2.2\n",
    "# Total a ser pago por morangos:\n",
    "total_morango = preco_morango * kg_morango    \n",
    "\n",
    "# Definindo preço da maçã:\n",
    "# Se <= 5kg:\n",
    "if kg_maca <= 5:\n",
    "    preco_maca = 1.8\n",
    "# Se > 5kg:\n",
    "else:\n",
    "    preco_maca = 1.5\n",
    "# Total a ser pago por maçãs:    \n",
    "total_maca = preco_maca * kg_maca\n",
    "\n",
    "# Valor total a ser pago:\n",
    "total = total_maca + total_morango\n",
    "\n",
    "# Somando kg maçã e morango:\n",
    "kg_soma = kg_maca + kg_morango\n",
    "\n",
    "# Se comprados mais que 8kg (de maçãs e morangos) OU se o valor da compra for > R$25,00, tem 10% de desconto:\n",
    "if (kg_soma > 8) or (total > 25):\n",
    "    desconto = 0.1\n",
    "    total = total - (total * desconto)\n",
    "\n",
    "print(f'\\nQuantidade de morangos: {kg_morango}Kg \\nQuantidade de maçãs: {kg_maca}Kg \\nValor: R$ {total:.2f}')\n"
   ]
  }
 ],
 "metadata": {
  "kernelspec": {
   "display_name": "Python 3 (ipykernel)",
   "language": "python",
   "name": "python3"
  },
  "language_info": {
   "codemirror_mode": {
    "name": "ipython",
    "version": 3
   },
   "file_extension": ".py",
   "mimetype": "text/x-python",
   "name": "python",
   "nbconvert_exporter": "python",
   "pygments_lexer": "ipython3",
   "version": "3.9.7"
  }
 },
 "nbformat": 4,
 "nbformat_minor": 5
}
