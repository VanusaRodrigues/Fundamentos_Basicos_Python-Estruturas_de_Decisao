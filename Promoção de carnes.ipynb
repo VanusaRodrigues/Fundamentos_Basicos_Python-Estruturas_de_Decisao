{
 "cells": [
  {
   "cell_type": "markdown",
   "id": "b2f38ae5",
   "metadata": {},
   "source": [
    "O Hipermercado Tabajara está com uma promoção de carnes que é imperdível. Confira: <br>\n",
    "\n",
    "------------------------------ Até 5 Kg -------------------- Acima de 5 Kg <br>\n",
    "File Duplo -------------- RS 4,90 por Kg ------------ RS 5,80 por Kg <br>\n",
    "Alcatra ------------------ RS 5,90 por Kg ------------ RS 6,80 por Kg <br>\n",
    "Picanha ----------------- RS 6,90 por Kg ------------ RS 7,80 por Kg <br>\n",
    "\n",
    "Para atender a todos os clientes, cada cliente poderá levar apenas um dos tipos de carne da promoção, porém não há limites para a quantidade de carne por cliente. <br>\n",
    "Se compra for feita no cartão Tabajara o cliente receberá ainda um desconto de 5% sobre o total da compra. <br>\n",
    "Escreva um programa que peça o tipo e a quantidade de carne comprada pelo usuário e gere um cupom fiscal, contendo as informações da compra: tipo e quantidade de carne, preço total, tipo de pagamento, valor do desconto e valor a pagar."
   ]
  },
  {
   "cell_type": "code",
   "execution_count": 2,
   "id": "311bd9e1",
   "metadata": {},
   "outputs": [
    {
     "name": "stdout",
     "output_type": "stream",
     "text": [
      "Escolha o tipo de carne: \n",
      "1 = Filé Duplo \n",
      "2 = Alcatra \n",
      "3 = Picanha \n",
      "1\n",
      "Quantos kilos? 2\n",
      "Qual a forma de pagamento? \n",
      "1 = Cartão Tabajara \n",
      "2 = Outros \n",
      "1\n",
      "\n",
      "Tipo de carne: Filé Duplo \n",
      "Quantidade: 2.0Kg \n",
      "Preço total: R$ 9.80 \n",
      "Valor do desconto (5%): R$ 0.49 \n",
      "Valor a pagar: R$ 9.31\n"
     ]
    }
   ],
   "source": [
    "carne = input('Escolha o tipo de carne: \\n1 = Filé Duplo \\n2 = Alcatra \\n3 = Picanha \\n')\n",
    "qtde_carne = float(input('Quantos kilos? '))\n",
    "tipo_pagamento = input('Qual a forma de pagamento? \\n1 = Cartão Tabajara \\n2 = Outros \\n')\n",
    "\n",
    "preco = 0\n",
    "preco_total = 0 \n",
    "desconto = 0 \n",
    "preco_com_desconto = 0 \n",
    "tipo_carne = ''\n",
    "\n",
    "# Testando validade das entradas (tipos de carne):\n",
    "if (carne != '1' and carne != '2' and carne != '3') or (tipo_pagamento != '1' and tipo_pagamento != '2'):\n",
    "    print('Opção inválida. Por favor, tente novamente.')\n",
    "    \n",
    "# Definindo preço filé duplo:\n",
    "elif carne == '1':\n",
    "    tipo_carne = 'Filé Duplo'\n",
    "    if qtde_carne <= 5:\n",
    "        preco = 4.9\n",
    "    else:\n",
    "        preco = 5.8\n",
    "        \n",
    "# Definindo preço alcatra:\n",
    "elif carne == '2':\n",
    "    tipo_carne = 'Alcatra'\n",
    "    if qtde_carne <= 5:\n",
    "        preco = 5.9\n",
    "    else:\n",
    "        preco = 6.8\n",
    "        \n",
    "# Definindo preço picanha:\n",
    "else:\n",
    "    tipo_carne = 'Picanha'\n",
    "    if qtde_carne <= 5:\n",
    "        preco = 6.9\n",
    "    else:\n",
    "        preco = 7.8\n",
    "\n",
    "# Calculando preço total:\n",
    "preco_total = preco * qtde_carne\n",
    "preco_com_desconto = preco * qtde_carne\n",
    "\n",
    "# Calculando desconto de pagamento no cartão Tabajara:\n",
    "if tipo_pagamento == '1':\n",
    "    desconto = preco_total * 0.05\n",
    "    preco_com_desconto = preco_total - desconto\n",
    "\n",
    "print(f'\\nTipo de carne: {tipo_carne} \\nQuantidade: {qtde_carne}Kg \\nPreço total: R$ {preco_total:.2f} \\nValor do desconto (5%): R$ {desconto:.2f} \\nValor a pagar: R$ {preco_com_desconto:.2f}')\n"
   ]
  }
 ],
 "metadata": {
  "kernelspec": {
   "display_name": "Python 3 (ipykernel)",
   "language": "python",
   "name": "python3"
  },
  "language_info": {
   "codemirror_mode": {
    "name": "ipython",
    "version": 3
   },
   "file_extension": ".py",
   "mimetype": "text/x-python",
   "name": "python",
   "nbconvert_exporter": "python",
   "pygments_lexer": "ipython3",
   "version": "3.9.7"
  }
 },
 "nbformat": 4,
 "nbformat_minor": 5
}
